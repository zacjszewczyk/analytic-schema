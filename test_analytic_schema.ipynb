{
 "cells": [
  {
   "cell_type": "markdown",
   "id": "3d7de7c9-1059-4417-bb39-4101bad50081",
   "metadata": {},
   "source": []
  },
  {
   "cell_type": "code",
   "execution_count": 1,
   "id": "64e32c8b-b669-4db4-b0f9-aef7b4f590fa",
   "metadata": {},
   "outputs": [],
   "source": [
    "from analytic_schema import parse_input, validate_input, OutputDoc"
   ]
  },
  {
   "cell_type": "code",
   "execution_count": 6,
   "id": "dab06764-9b13-46ef-b9a6-2b24da5ddc10",
   "metadata": {},
   "outputs": [
    {
     "name": "stdout",
     "output_type": "stream",
     "text": [
      "{'input_schema_version': '1.0.0', 'start_dtg': '2025-06-01T00:00:00Z', 'end_dtg': '2025-06-02T00:00:00Z', 'data_source_type': 'file', 'data_source': '/tmp/conn.csv'}\n"
     ]
    }
   ],
   "source": [
    "# Example 1: From CLI-like string (Corrected argument names with hyphens)\n",
    "raw_cli_params = parse_input('--input-schema-version 1.0.0 '\n",
    "                             '--start-dtg 2025-06-01T00:00:00Z '\n",
    "                             '--end-dtg 2025-06-02T00:00:00Z '\n",
    "                             '--data-source-type file '\n",
    "                             '--data-source /tmp/conn.csv')\n",
    "print(raw_cli_params)"
   ]
  },
  {
   "cell_type": "code",
   "execution_count": 7,
   "id": "d56996a7-a07d-4644-9d52-b5d19ec955f1",
   "metadata": {},
   "outputs": [
    {
     "name": "stdout",
     "output_type": "stream",
     "text": [
      "{'input_schema_version': '1.0.0', 'start_dtg': '2025-06-01T00:00:00Z', 'end_dtg': '2025-06-02T00:00:00Z', 'data_source_type': 'file', 'data_source': '/tmp/conn.csv'}\n"
     ]
    }
   ],
   "source": [
    "params_from_cli = validate_input(raw_cli_params)\n",
    "print(params_from_cli)"
   ]
  },
  {
   "cell_type": "code",
   "execution_count": 8,
   "id": "dbd3a424-d030-46ed-97f4-2b9658b6de76",
   "metadata": {},
   "outputs": [
    {
     "name": "stdout",
     "output_type": "stream",
     "text": [
      "{'input_schema_version': '1.0.0', 'start_dtg': '2025-06-01T00:00:00Z', 'end_dtg': '2025-06-02T00:00:00Z', 'data_source_type': 'file', 'data_source': '/tmp/conn.csv', 'analytic_parameters': '{\"param_a\": 123}'}\n"
     ]
    }
   ],
   "source": [
    "# Example 2: From a dictionary\n",
    "raw_dict_params = {\n",
    "    \"input_schema_version\": \"1.0.0\",\n",
    "    \"start_dtg\": \"2025-06-01T00:00:00Z\",\n",
    "    \"end_dtg\": \"2025-06-02T00:00:00Z\",\n",
    "    \"data_source_type\": \"file\",\n",
    "    \"data_source\": \"/tmp/conn.csv\",\n",
    "    \"analytic_parameters\": '{\"param_a\": 123}' # As JSON string\n",
    "}\n",
    "raw_dict_params = parse_input(raw_dict_params)\n",
    "print(raw_dict_params)"
   ]
  },
  {
   "cell_type": "code",
   "execution_count": 9,
   "id": "be531a1e-88c1-48e9-9cac-078b410becc0",
   "metadata": {},
   "outputs": [
    {
     "name": "stdout",
     "output_type": "stream",
     "text": [
      "{'input_schema_version': '1.0.0', 'start_dtg': '2025-06-01T00:00:00Z', 'end_dtg': '2025-06-02T00:00:00Z', 'data_source_type': 'file', 'data_source': '/tmp/conn.csv', 'analytic_parameters': {'param_a': 123}}\n"
     ]
    }
   ],
   "source": [
    "params_from_dict = validate_input(raw_dict_params)\n",
    "print(params_from_dict)\n",
    "# params_from_dict['analytic_parameters'] would be {'param_a': 123}"
   ]
  },
  {
   "cell_type": "code",
   "execution_count": 10,
   "id": "c21a7aaf-96f9-468a-9ef8-611c49ba2905",
   "metadata": {},
   "outputs": [],
   "source": [
    "# Example 3: Using --config (imagine 'my_config.json' exists)\n",
    "# Contents of 'my_config.json':\n",
    "# {\n",
    "#   \"input_schema_version\": \"1.0.0\",\n",
    "#   \"start_dtg\": \"2025-07-01T00:00:00Z\",\n",
    "#   \"end_dtg\": \"2025-07-02T00:00:00Z\",\n",
    "#   \"data_source_type\": \"api endpoint\",\n",
    "#   \"data_source\": \"https://api.example.com/data\"\n",
    "# }\n",
    "# raw_params_with_config = parse_input(['--config', 'my_config.json', '--start-dtg', '2000-01-01T00:00:00Z'])\n",
    "# params_from_config_file = validate_input(raw_params_with_config)\n",
    "# params_from_config_file would use values from 'my_config.json', start_dtg from CLI would be overridden."
   ]
  },
  {
   "cell_type": "code",
   "execution_count": null,
   "id": "d5cb6f09-6031-45d3-84f1-16d936052108",
   "metadata": {},
   "outputs": [],
   "source": [
    "raw_data_sha256 = \"e3b0c4...55\"  # Example hash\n",
    "out = OutputDoc(\n",
    "    input_schema_version=params_from_dict['input_schema_version'],\n",
    "    output_schema_version='1.1.0',\n",
    "    analytic_id='notebooks/beacon_detection.ipynb',\n",
    "    analytic_name='Beacon Detection',\n",
    "    analytic_version='2.3.1',\n",
    "    inputs=params_from_dict, # Pass the validated and canonicalized inputs\n",
    "    input_data_hash=raw_data_sha256,\n",
    "    status='success',\n",
    "    exit_code=0,\n",
    "    findings=[],\n",
    "    records_processed=0\n",
    ")\n",
    "print(out)"
   ]
  },
  {
   "cell_type": "code",
   "execution_count": 12,
   "id": "86331bfe-fcfb-433e-a699-7c5791d96ed0",
   "metadata": {},
   "outputs": [
    {
     "name": "stdout",
     "output_type": "stream",
     "text": [
      "None\n"
     ]
    }
   ],
   "source": [
    "out.finalise()"
   ]
  },
  {
   "cell_type": "code",
   "execution_count": null,
   "id": "6af8c672-a690-428c-b283-fb0e573927c2",
   "metadata": {},
   "outputs": [],
   "source": []
  }
 ],
 "metadata": {
  "kernelspec": {
   "display_name": "Python 3 (ipykernel)",
   "language": "python",
   "name": "python3"
  },
  "language_info": {
   "codemirror_mode": {
    "name": "ipython",
    "version": 3
   },
   "file_extension": ".py",
   "mimetype": "text/x-python",
   "name": "python",
   "nbconvert_exporter": "python",
   "pygments_lexer": "ipython3",
   "version": "3.11.8"
  }
 },
 "nbformat": 4,
 "nbformat_minor": 5
}
